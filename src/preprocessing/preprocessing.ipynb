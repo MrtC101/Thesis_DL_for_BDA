{
 "cells": [
  {
   "cell_type": "code",
   "execution_count": 1,
   "metadata": {},
   "outputs": [
    {
     "ename": "FileNotFoundError",
     "evalue": "[Errno 2] No such file or directory: 'constants/class_lists/xBD_label_map.json'",
     "output_type": "error",
     "traceback": [
      "\u001b[0;31m---------------------------------------------------------------------------\u001b[0m",
      "\u001b[0;31mFileNotFoundError\u001b[0m                         Traceback (most recent call last)",
      "Cell \u001b[0;32mIn[1], line 11\u001b[0m\n\u001b[1;32m      9\u001b[0m \u001b[38;5;28;01mfrom\u001b[39;00m \u001b[38;5;21;01mutils\u001b[39;00m\u001b[38;5;21;01m.\u001b[39;00m\u001b[38;5;21;01mfiles\u001b[39;00m\u001b[38;5;21;01m.\u001b[39;00m\u001b[38;5;21;01mclean_folder\u001b[39;00m \u001b[38;5;28;01mimport\u001b[39;00m delete_not_in\n\u001b[1;32m     10\u001b[0m \u001b[38;5;28;01mfrom\u001b[39;00m \u001b[38;5;21;01mutils\u001b[39;00m\u001b[38;5;21;01m.\u001b[39;00m\u001b[38;5;21;01mfiles\u001b[39;00m\u001b[38;5;21;01m.\u001b[39;00m\u001b[38;5;21;01mdelete_extra\u001b[39;00m \u001b[38;5;28;01mimport\u001b[39;00m leave_only_n\n\u001b[0;32m---> 11\u001b[0m \u001b[38;5;28;01mfrom\u001b[39;00m \u001b[38;5;21;01mcreate_label_masks\u001b[39;00m \u001b[38;5;28;01mimport\u001b[39;00m create_masks\n\u001b[1;32m     12\u001b[0m \u001b[38;5;28;01mfrom\u001b[39;00m \u001b[38;5;21;01mutils\u001b[39;00m\u001b[38;5;21;01m.\u001b[39;00m\u001b[38;5;21;01mfiles\u001b[39;00m\u001b[38;5;21;01m.\u001b[39;00m\u001b[38;5;21;01mpath_manager\u001b[39;00m \u001b[38;5;28;01mimport\u001b[39;00m RawPathManager\n",
      "File \u001b[0;32m~/Desktop/tesina/repo/my_siames/src/preprocessing/create_label_masks.py:64\u001b[0m\n\u001b[1;32m     61\u001b[0m DISASTERS_OF_INTEREST \u001b[38;5;241m=\u001b[39m (\u001b[38;5;124m'\u001b[39m\u001b[38;5;124mmexico-earthquake_\u001b[39m\u001b[38;5;124m'\u001b[39m, \u001b[38;5;124m'\u001b[39m\u001b[38;5;124mpalu-tsunami_\u001b[39m\u001b[38;5;124m'\u001b[39m, \u001b[38;5;124m'\u001b[39m\u001b[38;5;124msunda-tsunami_\u001b[39m\u001b[38;5;124m'\u001b[39m)\n\u001b[1;32m     63\u001b[0m \u001b[38;5;66;03m# running from repo root\u001b[39;00m\n\u001b[0;32m---> 64\u001b[0m LABEL_NAME_TO_NUM \u001b[38;5;241m=\u001b[39m read_json(\u001b[38;5;124m'\u001b[39m\u001b[38;5;124mconstants/class_lists/xBD_label_map.json\u001b[39m\u001b[38;5;124m'\u001b[39m)[\u001b[38;5;124m'\u001b[39m\u001b[38;5;124mlabel_name_to_num\u001b[39m\u001b[38;5;124m'\u001b[39m]\n\u001b[1;32m     66\u001b[0m \u001b[38;5;28;01mdef\u001b[39;00m \u001b[38;5;21mget_dimensions\u001b[39m(file_path):\n\u001b[1;32m     67\u001b[0m \u001b[38;5;250m    \u001b[39m\u001b[38;5;124;03m\"\"\"\u001b[39;00m\n\u001b[1;32m     68\u001b[0m \u001b[38;5;124;03m        Returns (width, height, channels) of the image at file_path\u001b[39;00m\n\u001b[1;32m     69\u001b[0m \u001b[38;5;124;03m    \"\"\"\u001b[39;00m\n",
      "File \u001b[0;32m~/Desktop/tesina/repo/my_siames/src/utils/files/common.py:4\u001b[0m, in \u001b[0;36mread_json\u001b[0;34m(json_path)\u001b[0m\n\u001b[1;32m      3\u001b[0m \u001b[38;5;28;01mdef\u001b[39;00m \u001b[38;5;21mread_json\u001b[39m(json_path : \u001b[38;5;28mstr\u001b[39m) \u001b[38;5;241m-\u001b[39m\u001b[38;5;241m>\u001b[39m \u001b[38;5;28mdict\u001b[39m:\n\u001b[0;32m----> 4\u001b[0m     \u001b[38;5;28;01mwith\u001b[39;00m \u001b[38;5;28mopen\u001b[39m(json_path) \u001b[38;5;28;01mas\u001b[39;00m f:\n\u001b[1;32m      5\u001b[0m         j \u001b[38;5;241m=\u001b[39m json\u001b[38;5;241m.\u001b[39mload(f)\n\u001b[1;32m      6\u001b[0m     \u001b[38;5;28;01mreturn\u001b[39;00m j\n",
      "\u001b[0;31mFileNotFoundError\u001b[0m: [Errno 2] No such file or directory: 'constants/class_lists/xBD_label_map.json'"
     ]
    }
   ],
   "source": [
    "import os\n",
    "os.environ[\"SRC_PATH\"] = \"/home/mrtc101/Desktop/tesina/repo/my_siames/src\"\n",
    "\n",
    "import os\n",
    "import sys\n",
    "if(os.environ.get(\"SRC_PATH\") not in sys.path):\n",
    "    sys.path.append(os.environ.get(\"SRC_PATH\"))\n",
    "\n",
    "from utils.files.clean_folder import delete_not_in\n",
    "from utils.files.delete_extra import leave_only_n\n",
    "from create_label_masks import create_masks\n",
    "from utils.files.path_manager import RawPathManager "
   ]
  },
  {
   "cell_type": "code",
   "execution_count": null,
   "metadata": {},
   "outputs": [],
   "source": [
    "data_path = \"../../data/xBD/raw\"\n",
    "# Deletes all disaster zones that are not of interest\n",
    "delete_not_in(data_path)\n",
    "# Deletes pick only n random disaster zones and deletes all the rest.\n",
    "leave_only_n(data_path,20)\n",
    "# Create a target mask for all disaster zones.\n",
    "create_masks(data_path)\n",
    "raw_dataset = RawPathManager.load_dataset(data_path)\n",
    "raw_dataset.check()\n"
   ]
  }
 ],
 "metadata": {
  "kernelspec": {
   "display_name": "nlrc",
   "language": "python",
   "name": "python3"
  },
  "language_info": {
   "codemirror_mode": {
    "name": "ipython",
    "version": 3
   },
   "file_extension": ".py",
   "mimetype": "text/x-python",
   "name": "python",
   "nbconvert_exporter": "python",
   "pygments_lexer": "ipython3",
   "version": "3.11.9"
  }
 },
 "nbformat": 4,
 "nbformat_minor": 2
}
