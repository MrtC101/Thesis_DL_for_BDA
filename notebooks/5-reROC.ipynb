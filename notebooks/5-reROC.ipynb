{
 "cells": [
  {
   "cell_type": "code",
   "execution_count": 1,
   "metadata": {},
   "outputs": [],
   "source": [
    "import sys\n",
    "sys.path.append(\"../src\")\n",
    "from utils.common.pathManager import FilePath\n",
    "from collections import defaultdict\n",
    "import matplotlib.pyplot as plt\n",
    "import seaborn as sns\n",
    "import numpy as np\n",
    "from cv2 import imread\n",
    "import pandas as pd\n",
    "from sklearn.metrics import roc_curve, roc_auc_score\n",
    "xbd_path = FilePath(\"/media/mrtc101/Martín SSD/tesis/datasets/xBD\")"
   ]
  },
  {
   "cell_type": "code",
   "execution_count": null,
   "metadata": {},
   "outputs": [],
   "source": [
    "\n",
    "from email.headerregistry import DateHeader\n",
    "import torch\n",
    "from models.trainable_model import TrainModel\n",
    "from utils.datasets.train_dataset import TrainDataset\n",
    "\n",
    "\n",
    "loader: DateHeader\n",
    "model: TrainModel\n",
    "device : torch.device\n",
    "metric_dir: str\n",
    "\n",
    "k: int = 100\n",
    "dataset: TrainDataset = loader.dataset\n",
    "n_class = 5\n",
    "model.eval()\n",
    "# columns=[\"tp\",\"fp\",\"fn\",\"tn\"]\n",
    "patch_conf_mtrx_dict = defaultdict(lambda: torch.zeros(size=(n_class, 4)))\n",
    "for i in trange(0, int(len(dataset)/16)):\n",
    "    dis_id, tile_id, patch_dict = dataset.get_by_id(i)\n",
    "    for patch_id, patch in patch_dict.items():\n",
    "        x_pre = patch['pre_img'].to(device=device)\n",
    "        x_post = patch['post_img'].to(device=device)\n",
    "        y_cls = patch['dmg_mask'].to(device=device)\n",
    "        bin_true_tensor = model.make_binary(y_cls, [0, 1, 2, 3, 4])\n",
    "        logit_masks = model(x_pre.unsqueeze(0), x_post.unsqueeze(0))\n",
    "\n",
    "        for th in torch.arange(0, 1+(1/k), 1/k):\n",
    "            bin_pred_tensor = model.compute_binary(logit_masks[2], th)\n",
    "            bin_pred_tensor = bin_pred_tensor.squeeze(0)\n",
    "            conf_matrices = MatrixComputer.compute_bin_matrices_px(\n",
    "                    bin_pred_tensor, bin_true_tensor)\n",
    "            key = round(float(th), 3)\n",
    "            patch_conf_mtrx_dict[key] += conf_matrices.to(device='cpu')\n"
   ]
  },
  {
   "cell_type": "code",
   "execution_count": null,
   "metadata": {},
   "outputs": [],
   "source": [
    "roc_curve: tuple = MetricComputer.compute_ROC(patch_conf_mtrx_dict)\n",
    "plot_roc_curves(\"pixel\", roc_curve, metric_dir)\n",
    "pr_curve: tuple = MetricComputer.compute_PR(patch_conf_mtrx_dict)\n",
    "plot_pr_curves(\"pixel\", pr_curve, metric_dir)\n"
   ]
  }
 ],
 "metadata": {
  "kernelspec": {
   "display_name": "develop",
   "language": "python",
   "name": "python3"
  },
  "language_info": {
   "codemirror_mode": {
    "name": "ipython",
    "version": 3
   },
   "file_extension": ".py",
   "mimetype": "text/x-python",
   "name": "python",
   "nbconvert_exporter": "python",
   "pygments_lexer": "ipython3",
   "version": "3.11.9"
  }
 },
 "nbformat": 4,
 "nbformat_minor": 2
}
