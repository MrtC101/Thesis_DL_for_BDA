{
 "cells": [
  {
   "cell_type": "code",
   "execution_count": 19,
   "metadata": {},
   "outputs": [
    {
     "name": "stdout",
     "output_type": "stream",
     "text": [
      "   accuracy  precision    recall        f1       hf1\n",
      "0  0.393215   0.133648  0.393215  0.199491  0.115382\n",
      "1  0.040667   0.138298  0.040667  0.062853  0.115382\n",
      "2  0.075269   0.138989  0.075269  0.097654  0.115382\n",
      "3  0.368800   0.232711  0.368800  0.285361  0.115382\n"
     ]
    }
   ],
   "source": [
    "import pandas as pd\n",
    "\n",
    "\n",
    "\n",
    "# Definimos los valores en una tabla\n",
    "\n",
    "data = {\n",
    "\n",
    "    \"true_pos\": [510, 39, 77, 461],\n",
    "\n",
    "    \"false_pos\": [3306, 243, 477, 1520],\n",
    "\n",
    "    \"false_neg\": [787, 920, 946, 789],\n",
    "\n",
    "    \"true_neg\": [0, 0, 0, 0],\n",
    "\n",
    "    \"true_total\": [1297, 959, 1023, 1250],\n",
    "\n",
    "    \"pred_total\": [3816, 282, 554, 1981]\n",
    "\n",
    "}\n",
    "\n",
    "\n",
    "\n",
    "# Convertimos a DataFrame\n",
    "\n",
    "df = pd.DataFrame(data)\n",
    "df2 = pd.DataFrame()\n",
    "\n",
    "\n",
    "\n",
    "# Calculamos el accuracy para cada fila\n",
    "df2[\"accuracy\"] = (df[\"true_pos\"] + df[\"true_neg\"]) / df[\"true_total\"]\n",
    "df2[\"precision\"] = df[\"true_pos\"] / df[\"pred_total\"]  # Corrección: Precision se calcula con true_pos / pred_total\n",
    "df2[\"recall\"] = df[\"true_pos\"] / (df[\"true_pos\"] + df[\"false_neg\"])\n",
    "df2[\"f1\"] = 2 * (df2[\"precision\"] * df2[\"recall\"]) / (df2[\"precision\"] + df2[\"recall\"])  # F1-score se calcula correctamente\n",
    "# Valores de F1-score para los cuatro casos\n",
    "f1_scores = df2[\"f1\"]\n",
    "\n",
    "# Calcular la media armónica\n",
    "harmonic_mean = len(f1_scores) / sum(1/x for x in f1_scores)\n",
    "df2[\"hf1\"] = harmonic_mean\n",
    "# Mostramos los resultados\n",
    "print(df2)"
   ]
  },
  {
   "cell_type": "code",
   "execution_count": 1,
   "metadata": {},
   "outputs": [
    {
     "name": "stdout",
     "output_type": "stream",
     "text": [
      "Encabezados agregados a los archivos CSV.\n"
     ]
    }
   ],
   "source": [
    "import os\n",
    "import pandas as pd\n",
    "\n",
    "# Define el directorio donde se encuentran los archivos CSV\n",
    "directorio = \"/home/mrtc101/Desktop/tesina/repo/prev_outs\"\n",
    "# Recorre todos los archivos en el directorio y sus subdirectorios\n",
    "for root, dirs, files in os.walk(directorio):\n",
    "    for file in files:\n",
    "        if file.endswith(\"test_dmg_pixel_level.csv\") or file.endswith(\"test_bld_pixel_level.csv\"):\n",
    "            file_path = os.path.join(root, file)\n",
    "            # Lee el CSV existente\n",
    "            df = pd.read_csv(file_path)\n",
    "            # Crea un nuevo DataFrame con el encabezado\n",
    "            header = [\"epoch\",\"f1_harmonic_mean\",\"class\",\"precision\",\"recall\",\"f1\",\"accuracy\"]\n",
    "            row1 = df.columns\n",
    "            df.columns = header\n",
    "            df = pd.concat([pd.DataFrame([row1], columns=header), df])\n",
    "            # Guarda el DataFrame modificado de nuevo como CSV\n",
    "            df.to_csv(file_path, index=False)\n",
    "\n",
    "print(\"Encabezados agregados a los archivos CSV.\")"
   ]
  }
 ],
 "metadata": {
  "kernelspec": {
   "display_name": "develop",
   "language": "python",
   "name": "python3"
  },
  "language_info": {
   "codemirror_mode": {
    "name": "ipython",
    "version": 3
   },
   "file_extension": ".py",
   "mimetype": "text/x-python",
   "name": "python",
   "nbconvert_exporter": "python",
   "pygments_lexer": "ipython3",
   "version": "3.11.9"
  }
 },
 "nbformat": 4,
 "nbformat_minor": 2
}
