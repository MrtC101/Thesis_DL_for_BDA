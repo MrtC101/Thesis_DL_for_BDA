{
 "cells": [
  {
   "cell_type": "markdown",
   "metadata": {},
   "source": [
    "# Building Damage Assessment"
   ]
  },
  {
   "cell_type": "code",
   "execution_count": 1,
   "metadata": {},
   "outputs": [],
   "source": [
    "import sys\n",
    "import dotenv\n",
    "sys.path.append(\"src/\")\n",
    "dotenv.dotenv_values(dotenv.find_dotenv())\n",
    "# paths\n",
    "data_dir = \"../data\""
   ]
  },
  {
   "cell_type": "markdown",
   "metadata": {},
   "source": [
    "## xBD data preprocess"
   ]
  },
  {
   "cell_type": "code",
   "execution_count": 3,
   "metadata": {},
   "outputs": [
    {
     "name": "stdout",
     "output_type": "stream",
     "text": [
      "Processed folders read: 3/3\n",
      "Instance segmentation masks created: 3/3\n",
      "Bounding boxes created: 3/3\n",
      "Processed folders read: 3/3\n",
      "Augmented data for mexico-earthquake_00000003 class: 1/1\n",
      "Processed folders read: 3/3\n",
      "Augmented folders read: 1/1\n",
      "Random Oversampling: added 0 copies.\n"
     ]
    }
   ],
   "source": [
    "# paths\n",
    "data_dir = \"../data\"# Feature engineering & imbalanced data treatment\n",
    "from  data.make_xBD import preprocess_data\n",
    "\n",
    "folder_list, zone_df = preprocess_data(data_dir);"
   ]
  },
  {
   "cell_type": "markdown",
   "metadata": {},
   "source": [
    "## Mask R-CNN training"
   ]
  },
  {
   "cell_type": "markdown",
   "metadata": {},
   "source": [
    "### Local training"
   ]
  },
  {
   "cell_type": "code",
   "execution_count": null,
   "metadata": {},
   "outputs": [],
   "source": [
    "from mprep.mrcnn_preprocess import preprocess_pipeline as mprep\n",
    "from mprep.mrcnn_postprocess import postrocess_pipeline as mpostp\n",
    "# mprep()\n",
    "    # 10-folding cross-validation\n",
    "    # mrcnn_train()\n",
    "    # pred = mpostp(model,val_fold)\n",
    "    # metricas(pred,val-fold)\n",
    "# prom_metrics(metrics)"
   ]
  },
  {
   "cell_type": "markdown",
   "metadata": {},
   "source": [
    "### Remote training"
   ]
  },
  {
   "cell_type": "code",
   "execution_count": null,
   "metadata": {},
   "outputs": [],
   "source": [
    "# train, val = split_dataset(0.8)\n",
    "# mprep(train)\n",
    "# mrcnn_train(train)\n",
    "# pred = mpostp(model,val)\n",
    "# metricas(pred,val)"
   ]
  },
  {
   "cell_type": "markdown",
   "metadata": {},
   "source": [
    "### Final training"
   ]
  },
  {
   "cell_type": "code",
   "execution_count": null,
   "metadata": {},
   "outputs": [],
   "source": [
    "# mprep(train)\n",
    "# pred = mpostp(model,test)\n",
    "# metricas(pred,test)"
   ]
  }
 ],
 "metadata": {
  "kernelspec": {
   "display_name": ".my_modelsvenv",
   "language": "python",
   "name": "python3"
  },
  "language_info": {
   "codemirror_mode": {
    "name": "ipython",
    "version": 3
   },
   "file_extension": ".py",
   "mimetype": "text/x-python",
   "name": "python",
   "nbconvert_exporter": "python",
   "pygments_lexer": "ipython3",
   "version": "3.11.0rc1"
  }
 },
 "nbformat": 4,
 "nbformat_minor": 2
}
