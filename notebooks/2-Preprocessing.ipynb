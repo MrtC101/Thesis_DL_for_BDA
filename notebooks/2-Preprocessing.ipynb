{
 "cells": [
  {
   "cell_type": "code",
   "execution_count": null,
   "metadata": {},
   "outputs": [],
   "source": [
    "import os\n",
    "os.environ[\"SRC_PATH\"] = \"/home/mrtc101/Desktop/tesina/repo/my_siames/src\"\n",
    "\n",
    "import os\n",
    "import sys\n",
    "if(os.environ.get(\"SRC_PATH\") not in sys.path):\n",
    "    sys.path.append(os.environ.get(\"SRC_PATH\"))\n",
    "\n",
    "from utils.files.clean_folder import delete_not_in\n",
    "from utils.files.delete_extra import leave_only_n\n",
    "from create_label_masks import create_masks\n",
    "from utils.files.path_manager import RawPathManager "
   ]
  },
  {
   "cell_type": "markdown",
   "metadata": {},
   "source": [
    "## Folder cleaning"
   ]
  },
  {
   "cell_type": "code",
   "execution_count": null,
   "metadata": {},
   "outputs": [],
   "source": [
    "data_path = \"../../data/xBD/raw\"\n",
    "# Deletes all disaster zones that are not of interest\n",
    "delete_not_in(data_path)\n",
    "# Deletes pick only n random disaster zones and deletes all the rest.\n",
    "leave_only_n(data_path,20)\n",
    "# Create a target mask for all disaster zones.\n",
    "create_masks(data_path)\n",
    "raw_dataset = RawPathManager.load_dataset(data_path)\n",
    "raw_dataset.check()\n"
   ]
  },
  {
   "cell_type": "markdown",
   "metadata": {},
   "source": [
    "## Data augmentation "
   ]
  },
  {
   "cell_type": "code",
   "execution_count": null,
   "metadata": {},
   "outputs": [],
   "source": [
    "# train/test split\n",
    "split_data(raw_dataset)\n",
    "# sobre train\n",
    "compute_mean(raw_dataset)\n",
    "# slice\n",
    "slice_tiles()\n",
    "# (Not in this version) balance_dataset()"
   ]
  },
  {
   "cell_type": "markdown",
   "metadata": {},
   "source": [
    "# Shards creation"
   ]
  },
  {
   "cell_type": "code",
   "execution_count": null,
   "metadata": {},
   "outputs": [],
   "source": [
    "#train/validation split\n",
    "create_shards()"
   ]
  }
 ],
 "metadata": {
  "kernelspec": {
   "display_name": "nlrc",
   "language": "python",
   "name": "python3"
  },
  "language_info": {
   "codemirror_mode": {
    "name": "ipython",
    "version": 3
   },
   "file_extension": ".py",
   "mimetype": "text/x-python",
   "name": "python",
   "nbconvert_exporter": "python",
   "pygments_lexer": "ipython3",
   "version": "3.11.9"
  }
 },
 "nbformat": 4,
 "nbformat_minor": 2
}
