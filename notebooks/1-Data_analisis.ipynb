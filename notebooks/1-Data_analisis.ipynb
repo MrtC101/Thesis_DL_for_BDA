{
 "cells": [
  {
   "cell_type": "code",
   "execution_count": 1,
   "metadata": {},
   "outputs": [
    {
     "name": "stdout",
     "output_type": "stream",
     "text": [
      "['hold', 'Selected imgs', 'test', 'tier3', 'train']\n"
     ]
    }
   ],
   "source": [
    "import os\n",
    "import sys\n",
    "sys.path.append(\"../src\")\n",
    "from utils.common.pathManager import FilePath\n",
    "from collections import defaultdict\n",
    "path = FilePath(\"/media/mrtc101/Martín SSD/tesis/datasets/xBD\")\n",
    "print(path.get_folder_names())"
   ]
  },
  {
   "cell_type": "code",
   "execution_count": 2,
   "metadata": {},
   "outputs": [
    {
     "data": {
      "text/plain": [
       "[('guatemala-volcano', 28),\n",
       " ('hurricane-florence', 546),\n",
       " ('midwest-flooding', 445),\n",
       " ('socal-fire', 1403),\n",
       " ('hurricane-matthew', 405),\n",
       " ('hurricane-harvey', 522),\n",
       " ('hurricane-michael', 550),\n",
       " ('santa-rosa-wildfire', 377),\n",
       " ('palu-tsunami', 196),\n",
       " ('mexico-earthquake', 193),\n",
       " ('joplin-tornado', 149),\n",
       " ('lower-puna-volcano', 291),\n",
       " ('moore-tornado', 227),\n",
       " ('nepal-flooding', 619),\n",
       " ('pinery-bushfire', 1845),\n",
       " ('portugal-wildfire', 1869),\n",
       " ('sunda-tsunami', 148),\n",
       " ('tuscaloosa-tornado', 343),\n",
       " ('woolsey-fire', 878)]"
      ]
     },
     "execution_count": 2,
     "metadata": {},
     "output_type": "execute_result"
    }
   ],
   "source": [
    "count_types = defaultdict(lambda : 0)\n",
    "for folder_path in path.get_folder_paths():\n",
    "    for split_name in folder_path.get_folder_names():\n",
    "        if(split_name == \"images\"):\n",
    "            split_path = folder_path.join(split_name)\n",
    "            for file in split_path.get_files_names():\n",
    "                if file.find(\"pre\") > -1:\n",
    "                    prefix = file.split(\"_\")[0]\n",
    "                    count_types[prefix] += 1\n",
    "[(t,n) for t,n in count_types.items()]"
   ]
  },
  {
   "cell_type": "markdown",
   "metadata": {},
   "source": [
    "('mexico-earthquake', 193)\n",
    "\n",
    "('nepal-flooding', 619)\n",
    "('midwest-flooding', 445)\n",
    "\n",
    "('santa-rosa-wildfire', 377)\n",
    "('portugal-wildfire', 1869)\n",
    "('socal-fire', 1403)\n",
    "('woolsey-fire', 878)\n",
    "('pinery-bushfire', 1845)\n",
    "\n",
    "('palu-tsunami', 196)\n",
    "('sunda-tsunami', 148)\n",
    "\n",
    "('joplin-tornado', 149)\n",
    "('moore-tornado', 227)\n",
    "('tuscaloosa-tornado', 343)\n",
    "\n",
    "('hurricane-florence', 546)\n",
    "('hurricane-matthew', 405)\n",
    "('hurricane-harvey', 522)\n",
    "('hurricane-michael', 550)\n",
    "\n",
    "('guatemala-volcano', 28)\n",
    "('lower-puna-volcano', 291)\n"
   ]
  },
  {
   "cell_type": "code",
   "execution_count": 3,
   "metadata": {},
   "outputs": [
    {
     "data": {
      "text/plain": [
       "['guatemala-volcano',\n",
       " 'hurricane-florence',\n",
       " 'midwest-flooding',\n",
       " 'socal-fire',\n",
       " 'hurricane-matthew',\n",
       " 'hurricane-harvey',\n",
       " 'hurricane-michael',\n",
       " 'santa-rosa-wildfire',\n",
       " 'palu-tsunami',\n",
       " 'mexico-earthquake',\n",
       " 'joplin-tornado',\n",
       " 'lower-puna-volcano',\n",
       " 'moore-tornado',\n",
       " 'nepal-flooding',\n",
       " 'pinery-bushfire',\n",
       " 'portugal-wildfire',\n",
       " 'sunda-tsunami',\n",
       " 'tuscaloosa-tornado',\n",
       " 'woolsey-fire']"
      ]
     },
     "execution_count": 3,
     "metadata": {},
     "output_type": "execute_result"
    }
   ],
   "source": [
    "[t for t,n in count_types.items()]"
   ]
  }
 ],
 "metadata": {
  "kernelspec": {
   "display_name": "develop",
   "language": "python",
   "name": "python3"
  },
  "language_info": {
   "codemirror_mode": {
    "name": "ipython",
    "version": 3
   },
   "file_extension": ".py",
   "mimetype": "text/x-python",
   "name": "python",
   "nbconvert_exporter": "python",
   "pygments_lexer": "ipython3",
   "version": "3.1.undefined"
  }
 },
 "nbformat": 4,
 "nbformat_minor": 2
}
