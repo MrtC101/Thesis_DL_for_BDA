{
 "cells": [
  {
   "cell_type": "code",
   "execution_count": null,
   "metadata": {},
   "outputs": [],
   "source": [
    "import pandas as pd\n",
    "import os\n",
    "import sys\n",
    "sys.path.append(\"src/\")\n",
    "from utils.processed_data_path import load_processed_data, folder_to_dataframe\n",
    "import matplotlib.pyplot as plt\n",
    "import seaborn as sns"
   ]
  },
  {
   "cell_type": "code",
   "execution_count": null,
   "metadata": {},
   "outputs": [],
   "source": [
    "data_path = '../data'\n",
    "processed_data_path = os.path.join(data_path,\"processed\")\n",
    "augmented_data_path = os.path.join(data_path,\"augmented\")"
   ]
  },
  {
   "cell_type": "code",
   "execution_count": null,
   "metadata": {},
   "outputs": [],
   "source": [
    "folder_dict = load_processed_data(processed_data_path,augmented_data_path)\n",
    "zone_df = folder_to_dataframe(folder_dict)"
   ]
  },
  {
   "cell_type": "code",
   "execution_count": null,
   "metadata": {},
   "outputs": [],
   "source": [
    "print(\"Dataframe:\")\n",
    "print(zone_df.head(1))\n",
    "print(\"\\nShape:\")\n",
    "print(zone_df.shape)\n",
    "print(\"\\nNull values:\")\n",
    "print(zone_df.isnull().sum())\n",
    "print(\"\\nDataframe description:\")\n",
    "print(zone_df.describe())"
   ]
  },
  {
   "cell_type": "code",
   "execution_count": null,
   "metadata": {},
   "outputs": [],
   "source": [
    "x = [\"no-damage\", \"minor-damage\", \"mayor-damage\", \"destroyed\"]\n",
    "print(zone_df[x])\n",
    "zone_df[x].hist(figsize=(10, 6), bins=10, alpha=0.7)\n",
    "plt.xlabel('Valor')\n",
    "plt.ylabel('Frecuencia')\n",
    "plt.show()\n",
    "y = zone_df[x].sum()\n",
    "plt.bar(x, y)\n",
    "plt.yscale('log')\n",
    "plt.show()\n",
    "correlation_matrix = zone_df[x].corr()\n",
    "# Crea el mapa de calor\n",
    "plt.figure(figsize=(10, 8))\n",
    "sns.heatmap(correlation_matrix, annot=True, cmap='coolwarm', fmt=\".2f\")\n",
    "plt.title('Mapa de Calor de Correlación')\n",
    "plt.show()"
   ]
  },
  {
   "cell_type": "markdown",
   "metadata": {},
   "source": [
    "- Identificación de posibles relaciones entre variables mediante diagramas de dispersión.\n",
    "- Visualización de la distribución de una variable numérica mediante un diagrama de caja (boxplot)."
   ]
  },
  {
   "cell_type": "markdown",
   "metadata": {},
   "source": [
    "# Data analysis & preprocessing\n"
   ]
  },
  {
   "cell_type": "markdown",
   "metadata": {},
   "source": [
    "# Creación de mascaras para entrenamiento de segmentación de instancias.\n"
   ]
  },
  {
   "cell_type": "markdown",
   "metadata": {},
   "source": [
    "## Pre- & Post- disaster image pair list creation\n"
   ]
  },
  {
   "cell_type": "markdown",
   "metadata": {},
   "source": [
    "## Target's polygons visualization\n",
    "\n",
    "#### label Json file format:\n"
   ]
  },
  {
   "cell_type": "code",
   "execution_count": null,
   "metadata": {},
   "outputs": [],
   "source": [
    "\"\"\"\n",
    "\"features\": {\n",
    "                \"lng_lat\": [\n",
    "                    {\n",
    "                        \"properties\": {\n",
    "                            \"feature_type\": \"building\", \n",
    "                            \"subtype\": \"no-damage\", \n",
    "                            \"uid\": \"486b0813-ecd2-4b84-856c-9c0e42156953\"\n",
    "                            },\n",
    "                        \"wkt\": \"POLYGON ((-90.8154467949004 14.39086318334907, -90.81590706308027 14.39071123556949, -90.81587964154231 14.39059650626618, -90.81595559688809 14.3905736709202, -90.8159334443047 14.39048145754321, -90.81586635209149 14.39049581582651, -90.81584174451078 14.39043032648, -90.81537467349251 14.39060467857228, -90.8154467949004 14.39086318334907))\"\n",
    "                    }, \n",
    "                    ]\n",
    "            }, \n",
    "            \"metadata\": {\n",
    "                \"sensor\": \"WORLDVIEW03_VNIR\", \n",
    "                \"provider_asset_type\": \"WORLDVIEW03_VNIR\", \n",
    "                \"gsd\": 1.3459189, \n",
    "                \"capture_date\": \"2018-02-05T17:10:18.000Z\", \n",
    "                \"off_nadir_angle\": 17.933279, \n",
    "                \"pan_resolution\": 0.3362646, \n",
    "                \"sun_azimuth\": 150.80763000000002, \n",
    "                \"sun_elevation\": 55.506645, \n",
    "                \"target_azimuth\": 118.24727, \n",
    "                \"disaster\": \"guatemala-volcano\", \n",
    "                \"disaster_type\": \"volcano\", \n",
    "                \"catalog_id\": \"10400100377A9B00\", \n",
    "                \"original_width\": 1024, \n",
    "                \"original_height\": 1024, \n",
    "                \"width\": 1024, \n",
    "                \"height\": 1024, \n",
    "                \"id\": \"MjUxMzEyMA.FwIEh3iVRb5-R_EXW9amgViNSoA\", \n",
    "                \"img_name\": \"guatemala-volcano_00000000_pre_disaster.png\"\n",
    "            }\n",
    "\"\"\""
   ]
  },
  {
   "cell_type": "code",
   "execution_count": null,
   "metadata": {},
   "outputs": [],
   "source": [
    "import json\n",
    "import matplotlib.pyplot as plt\n",
    "from shapely.wkt import loads\n",
    "from pyproj import Proj\n",
    "import numpy as np\n",
    "from utils.processed_data_path import DisasterZoneFolder\n",
    "\n",
    "folder: DisasterZoneFolder = folder_dict['aug_0_mexico-earthquake_00000003']\n",
    "plt.figure(figsize=(5, 5))\n",
    "\n",
    "n_clusters = 0\n",
    "clusters: np.array\n",
    "with open(os.path.join(folder.get_folder_path(), folder.get_pre_json()), 'r') as f:\n",
    "    disaster_json = json.load(f)\n",
    "    n_clusters = len(disaster_json['features']['lng_lat'])\n",
    "    for i, building in enumerate(disaster_json['features']['lng_lat']):\n",
    "        poly = loads(building['wkt'])\n",
    "        x, y = poly.exterior.xy\n",
    "        x, y = Proj(proj='merc')(x, y)\n",
    "        plt.plot(x, y)\n",
    "\n",
    "plt.title(f\"Clusters: {n_clusters}\")\n",
    "plt.show()"
   ]
  },
  {
   "cell_type": "markdown",
   "metadata": {},
   "source": [
    "## Creation of a new masks for pre-disaster images\n"
   ]
  },
  {
   "cell_type": "markdown",
   "metadata": {},
   "source": [
    "## Creation of bounding boxes for post-disaster images\n"
   ]
  },
  {
   "cell_type": "markdown",
   "metadata": {},
   "source": [
    "## Imbalance dataset Analysis\n"
   ]
  },
  {
   "cell_type": "markdown",
   "metadata": {},
   "source": [
    "## Ground Truth visualization\n"
   ]
  },
  {
   "cell_type": "code",
   "execution_count": null,
   "metadata": {},
   "outputs": [],
   "source": [
    "from utils.processed_data_path import DisasterZoneFolder\n",
    "import typing\n",
    "folder_dict : typing.List[DisasterZoneFolder] = load_processed_data(processed_data_path,augmented_data_path)\n",
    "zone_df = folder_to_dataframe(folder_dict)"
   ]
  },
  {
   "cell_type": "code",
   "execution_count": 46,
   "metadata": {},
   "outputs": [],
   "source": [
    "import cv2\n",
    "import matplotlib.pyplot as plt\n",
    "import matplotlib.patches as patches\n",
    "\n",
    "\n",
    "def supp(img, target):\n",
    "    img_disaster = cv2.cvtColor(img, cv2.COLOR_RGB2BGR)\n",
    "    target[target[:, :, 0] == 1] = [70, 70, 70]\n",
    "    target[target[:, :, 0] == 2] = [178, 255, 102]\n",
    "    target[target[:, :, 0] == 3] = [194, 255, 94]\n",
    "    target[target[:, :, 0] == 4] = [255, 139, 51]\n",
    "    target[target[:, :, 0] == 5] = [255, 19, 19]\n",
    "\n",
    "    alpha = 1  # Ajustar la transparencia de la segunda imagen\n",
    "    superposed_image = cv2.addWeighted(img_disaster, 0.8, target, alpha, 0)\n",
    "    return superposed_image\n",
    "\n",
    "\n",
    "def visualize_bounding_boxes(ax, bounding_boxes):\n",
    "    damaged = bounding_boxes[bounding_boxes[\"label\"] != \"no-damage\"]\n",
    "    # Dibujar cada bounding box y etiqueta en la imagen\n",
    "    for i in range(len(damaged)):\n",
    "        row = damaged.iloc[i]\n",
    "        x, y = (row[\"x1\"], row[\"y1\"])\n",
    "        z, w = (row[\"x2\"], row[\"y2\"])\n",
    "        rect = patches.Rectangle(\n",
    "            (x, y), z-x, w-y, linewidth=2, edgecolor='r', facecolor='none')\n",
    "        ax.add_patch(rect)\n",
    "        ax.text(z, w, row[\"label\"], color='white', fontsize=8,\n",
    "                fontweight=750, fontfamily='sans-serif',\n",
    "                verticalalignment='top',\n",
    "                bbox=dict(facecolor='red', alpha=0.3,\n",
    "                          edgecolor='none', pad=3,))\n",
    "\n",
    "\n",
    "def showImage(img_pre, img_post, target_pre, target_post, bounding_boxes):\n",
    "    fig, axes = plt.subplots(1, 2, figsize=(22, 22))\n",
    "\n",
    "    target_pre_img = supp(img_pre, target_pre)\n",
    "    target_post_img = supp(img_post, target_post)\n",
    "    # Mostrar las imágenes\n",
    "\n",
    "    axes[0].imshow(cv2.cvtColor(target_pre_img, cv2.COLOR_BGR2RGB))\n",
    "    axes[0].set_title('Mascaras de edificios antes del desastre',\n",
    "                      fontsize=17, fontweight=800)\n",
    "    axes[0].axis('off')\n",
    "    axes[0].text(400, 20, '(Los colores son aleatorios)',\n",
    "                 fontweight=400, bbox=dict(facecolor='white'))\n",
    "\n",
    "    axes[1].imshow(target_post_img)\n",
    "    visualize_bounding_boxes(axes[1], bounding_boxes)\n",
    "    axes[1].set_title('Edificios dañados después del desastre',\n",
    "                      fontsize=17, fontweight=800)\n",
    "    axes[1].axis('off')\n",
    "\n",
    "    plt.subplots_adjust(wspace=0.0)\n",
    "    plt.show()"
   ]
  },
  {
   "cell_type": "code",
   "execution_count": 1,
   "metadata": {},
   "outputs": [
    {
     "ename": "NameError",
     "evalue": "name 'DisasterZoneFolder' is not defined",
     "output_type": "error",
     "traceback": [
      "\u001b[0;31m---------------------------------------------------------------------------\u001b[0m",
      "\u001b[0;31mNameError\u001b[0m                                 Traceback (most recent call last)",
      "Cell \u001b[0;32mIn[1], line 2\u001b[0m\n\u001b[1;32m      1\u001b[0m processed_dataset \u001b[38;5;241m=\u001b[39m \u001b[38;5;124m\"\u001b[39m\u001b[38;5;124m../data/processed_dataset\u001b[39m\u001b[38;5;124m\"\u001b[39m\n\u001b[0;32m----> 2\u001b[0m folder : \u001b[43mDisasterZoneFolder\u001b[49m;\n\u001b[1;32m      3\u001b[0m \u001b[38;5;28;01mfor\u001b[39;00m folder \u001b[38;5;129;01min\u001b[39;00m folder_dict\u001b[38;5;241m.\u001b[39mvalues():\n\u001b[1;32m      4\u001b[0m \n\u001b[1;32m      5\u001b[0m     \u001b[38;5;66;03m# Cargar las imágenes\u001b[39;00m\n\u001b[1;32m      6\u001b[0m     p \u001b[38;5;241m=\u001b[39m os\u001b[38;5;241m.\u001b[39mpath\u001b[38;5;241m.\u001b[39mjoin(folder\u001b[38;5;241m.\u001b[39mget_folder_path(),folder\u001b[38;5;241m.\u001b[39mget_pre());\n",
      "\u001b[0;31mNameError\u001b[0m: name 'DisasterZoneFolder' is not defined"
     ]
    }
   ],
   "source": [
    "\n",
    "processed_dataset = \"../data/processed_dataset\"\n",
    "folder : DisasterZoneFolder;\n",
    "for folder in folder_dict.values():\n",
    "\n",
    "    # Cargar las imágenes\n",
    "    p = os.path.join(folder.get_folder_path(),folder.get_pre());\n",
    "    img_pre_disaster = cv2.imread(p)\n",
    "    p = os.path.join(folder.get_folder_path(),folder.get_post());\n",
    "    img_post_disaster = cv2.imread(p)\n",
    "\n",
    "    # Cargar los targets\n",
    "    p = os.path.join(folder.get_folder_path(),folder.get_instance_mask());\n",
    "    target_pre_disaster_img = cv2.imread(p)\n",
    "    p = os.path.join(folder.get_folder_path(),folder.get_class_mask());\n",
    "    target_post_disaster_img = cv2.imread(p)\n",
    "\n",
    "    # Bounding box\n",
    "    p = os.path.join(folder.get_folder_path(),folder.get_bbox());\n",
    "    bounding_boxes = pd.read_csv(p)  # Lista de bounding boxes (x, y, width, height)\n",
    "\n",
    "    showImage(img_pre_disaster, img_post_disaster,\n",
    "              target_pre_disaster_img, target_post_disaster_img, bounding_boxes)\n",
    "\n",
    "    # Cargar las anotaciones de segmentación de los archivos JSON\n",
    "    # with open(os.path.join(label_dir, pair.get_pre().get_json_file_name()), 'r') as f:\n",
    "    #    label_pre_disaster_data = json.load(f)\n",
    "    # with open(os.path.join(label_dir, pair.get_post().get_json_file_name()), 'r') as f:\n",
    "    #    label_post_disaster_data = json.load(f)"
   ]
  }
 ],
 "metadata": {
  "kernelspec": {
   "display_name": "Python 3",
   "language": "python",
   "name": "python3"
  },
  "language_info": {
   "codemirror_mode": {
    "name": "ipython",
    "version": 3
   },
   "file_extension": ".py",
   "mimetype": "text/x-python",
   "name": "python",
   "nbconvert_exporter": "python",
   "pygments_lexer": "ipython3",
   "version": "3.11.0rc1"
  }
 },
 "nbformat": 4,
 "nbformat_minor": 2
}
